{
 "cells": [
  {
   "cell_type": "code",
   "execution_count": 1,
   "id": "121a2e8c",
   "metadata": {},
   "outputs": [],
   "source": [
    "import numpy as np\n",
    "import pandas as pd\n",
    "import matplotlib.pyplot as plt\n",
    "import seaborn as sns"
   ]
  },
  {
   "cell_type": "code",
   "execution_count": 2,
   "id": "6e1a9ef4",
   "metadata": {},
   "outputs": [],
   "source": [
    "df = pd.read_csv(r'C:\\MLOps Projects\\Smart-Manufacturing-Machines-Efficiency-Prediction\\artifacts\\raw\\raw.csv')"
   ]
  },
  {
   "cell_type": "code",
   "execution_count": 3,
   "id": "33d97427",
   "metadata": {},
   "outputs": [
    {
     "name": "stdout",
     "output_type": "stream",
     "text": [
      "<class 'pandas.core.frame.DataFrame'>\n",
      "RangeIndex: 100000 entries, 0 to 99999\n",
      "Data columns (total 13 columns):\n",
      " #   Column                            Non-Null Count   Dtype  \n",
      "---  ------                            --------------   -----  \n",
      " 0   Timestamp                         100000 non-null  object \n",
      " 1   Machine_ID                        100000 non-null  int64  \n",
      " 2   Operation_Mode                    100000 non-null  object \n",
      " 3   Temperature_C                     100000 non-null  float64\n",
      " 4   Vibration_Hz                      100000 non-null  float64\n",
      " 5   Power_Consumption_kW              100000 non-null  float64\n",
      " 6   Network_Latency_ms                100000 non-null  float64\n",
      " 7   Packet_Loss_Perc                  100000 non-null  float64\n",
      " 8   Quality_Control_Defect_Rate_Perc  100000 non-null  float64\n",
      " 9   Production_Speed_units_per_hr     100000 non-null  float64\n",
      " 10  Predictive_Maintenance_Score      100000 non-null  float64\n",
      " 11  Error_Rate_Perc                   100000 non-null  float64\n",
      " 12  Efficiency_Status                 100000 non-null  object \n",
      "dtypes: float64(9), int64(1), object(3)\n",
      "memory usage: 9.9+ MB\n"
     ]
    }
   ],
   "source": [
    "df.info()"
   ]
  },
  {
   "cell_type": "code",
   "execution_count": null,
   "id": "a23b54a9",
   "metadata": {},
   "outputs": [],
   "source": []
  }
 ],
 "metadata": {
  "kernelspec": {
   "display_name": "env",
   "language": "python",
   "name": "python3"
  },
  "language_info": {
   "codemirror_mode": {
    "name": "ipython",
    "version": 3
   },
   "file_extension": ".py",
   "mimetype": "text/x-python",
   "name": "python",
   "nbconvert_exporter": "python",
   "pygments_lexer": "ipython3",
   "version": "3.11.11"
  }
 },
 "nbformat": 4,
 "nbformat_minor": 5
}
